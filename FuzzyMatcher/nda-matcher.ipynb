{
 "cells": [
  {
   "cell_type": "code",
   "execution_count": 1,
   "metadata": {
    "collapsed": false
   },
   "outputs": [
    {
     "name": "stderr",
     "output_type": "stream",
     "text": [
      "/software/anaconda/envs/devpype/lib/python2.7/site-packages/fuzzywuzzy/fuzz.py:35: UserWarning: Using slow pure-python SequenceMatcher. Install python-Levenshtein to remove this warning\n",
      "  warnings.warn('Using slow pure-python SequenceMatcher. Install python-Levenshtein to remove this warning')\n"
     ]
    }
   ],
   "source": [
    "import json\n",
    "import os\n",
    "import requests\n",
    "\n",
    "import rdflib as rl\n",
    "from fuzzywuzzy import fuzz\n",
    "from fuzzywuzzy import process\n",
    "\n",
    "import numpy as np"
   ]
  },
  {
   "cell_type": "code",
   "execution_count": 2,
   "metadata": {
    "collapsed": true
   },
   "outputs": [],
   "source": [
    "r = requests.get('https://ndar.nih.gov/api/datadictionary/v2/datastructure')"
   ]
  },
  {
   "cell_type": "code",
   "execution_count": 3,
   "metadata": {
    "collapsed": false
   },
   "outputs": [],
   "source": [
    "ds_data = r.json()"
   ]
  },
  {
   "cell_type": "code",
   "execution_count": 4,
   "metadata": {
    "collapsed": false
   },
   "outputs": [
    {
     "data": {
      "text/plain": [
       "{u'categories': [u'Questionnaire'],\n",
       " u'dataType': u'Clinical Assessments',\n",
       " u'publishDate': None,\n",
       " u'shortName': u'grit01',\n",
       " u'sources': [u'RDoC'],\n",
       " u'status': u'Published',\n",
       " u'title': u'12-Item Grit Scale'}"
      ]
     },
     "execution_count": 4,
     "metadata": {},
     "output_type": "execute_result"
    }
   ],
   "source": [
    "ds_data[0]"
   ]
  },
  {
   "cell_type": "code",
   "execution_count": 5,
   "metadata": {
    "collapsed": true
   },
   "outputs": [],
   "source": [
    "ds_names = [val['shortName'] for val in ds_data]\n",
    "ds_titles = [val['title'] for val in ds_data]"
   ]
  },
  {
   "cell_type": "code",
   "execution_count": 6,
   "metadata": {
    "collapsed": false
   },
   "outputs": [
    {
     "data": {
      "text/plain": [
       "[u'grit01',\n",
       " u'nepsy01',\n",
       " u'ace_fammedhist01',\n",
       " u'ace_subjmedhist01',\n",
       " u'ace_physexam01',\n",
       " u'adhdrs01',\n",
       " u'adhdc01',\n",
       " u'agre_ados1_200101',\n",
       " u'agre_ados1_200102',\n",
       " u'agre_ados2_200102']"
      ]
     },
     "execution_count": 6,
     "metadata": {},
     "output_type": "execute_result"
    }
   ],
   "source": [
    "ds_names[:10]"
   ]
  },
  {
   "cell_type": "code",
   "execution_count": 25,
   "metadata": {
    "collapsed": false
   },
   "outputs": [],
   "source": [
    "def fetch_named_ds(name):\n",
    "    named_json = '{0}.json'.format(name)\n",
    "    if not os.path.exists(named_json):\n",
    "        r = requests.get('https://ndar.nih.gov/api/datadictionary/v2/datastructure/{0}'.format(name))\n",
    "        named_data = r.json()\n",
    "        with open(named_json, 'wt') as fp:\n",
    "            json.dump(named_data, fp)\n",
    "    else:\n",
    "        with open(named_json, 'rt') as fp:\n",
    "            named_data = json.load(fp)\n",
    "    if named_data['status'] == \"Archived\":\n",
    "        return None\n",
    "    info = []\n",
    "    for element in named_data['dataElements']:\n",
    "        info_el = []\n",
    "        info_el.append(element['name'])\n",
    "        info_el.append(element['description'])\n",
    "        aliases = []\n",
    "        for alias in element['aliases']:\n",
    "            if ' ' in alias:\n",
    "                aliases.extend(alias.split())\n",
    "            else:\n",
    "                aliases.append(alias)\n",
    "        info_el.append(aliases)\n",
    "        info.append(info_el)\n",
    "    return info"
   ]
  },
  {
   "cell_type": "code",
   "execution_count": 26,
   "metadata": {
    "collapsed": false
   },
   "outputs": [
    {
     "data": {
      "text/plain": [
       "[[u'subjectkey',\n",
       "  u'The NDAR Global Unique Identifier (GUID) for research subject',\n",
       "  []],\n",
       " [u'src_subject_id', u\"Subject ID how it's defined in lab/project\", []],\n",
       " [u'interview_date',\n",
       "  u'Date on which the interview/genetic test/sampling/imaging was completed. MM/DD/YYYY',\n",
       "  []],\n",
       " [u'interview_age',\n",
       "  u'Age in months at the time of the interview/test/sampling/imaging.',\n",
       "  []],\n",
       " [u'gender', u'Sex of the subject', []],\n",
       " [u'grit1',\n",
       "  u'I have overcome setbacks to conquer an important challenge.',\n",
       "  []],\n",
       " [u'grit2',\n",
       "  u'New ideas and projects sometimes distract me from previous ones.',\n",
       "  []],\n",
       " [u'grit3', u'My interests change from year to year.', []],\n",
       " [u'grit4', u\"Setbacks don't discourage me.\", []],\n",
       " [u'grit5',\n",
       "  u'I have been obsessed with a certain idea or project for a short time but later lost interest.',\n",
       "  []],\n",
       " [u'grit6', u'I am a hard worker.', []],\n",
       " [u'grit7',\n",
       "  u'I often set a goal but later choose to pursue a different one.',\n",
       "  []],\n",
       " [u'grit8',\n",
       "  u'I have difficulty maintaining my focus on projects that take more than a few months to complete.',\n",
       "  []],\n",
       " [u'grit9', u'I finish whatever I begin.', []],\n",
       " [u'grit10', u'I have achieved a goal that took years of work.', []],\n",
       " [u'grit11', u'I become interested in new pursuits every few months.', []],\n",
       " [u'grit12', u'I am diligent.', []],\n",
       " [u'grit_total', u'Grit Total score', []],\n",
       " [u'grit_ci', u'Consistency of interests', []],\n",
       " [u'grit_pe', u'Perseverance of effort', []]]"
      ]
     },
     "execution_count": 26,
     "metadata": {},
     "output_type": "execute_result"
    }
   ],
   "source": [
    "fetch_named_ds(ds_names[0])"
   ]
  },
  {
   "cell_type": "code",
   "execution_count": 27,
   "metadata": {
    "collapsed": false
   },
   "outputs": [],
   "source": [
    "all_info = []\n",
    "for idx, name in enumerate(ds_names):\n",
    "    val = dict(name=name)\n",
    "    val['description'] = ds_titles[idx]\n",
    "    val['info'] = fetch_named_ds(name)\n",
    "    if val['info'] is not None:\n",
    "        all_info.append(val)"
   ]
  },
  {
   "cell_type": "code",
   "execution_count": 28,
   "metadata": {
    "collapsed": false
   },
   "outputs": [
    {
     "data": {
      "text/plain": [
       "1247"
      ]
     },
     "execution_count": 28,
     "metadata": {},
     "output_type": "execute_result"
    }
   ],
   "source": [
    "len(all_info)"
   ]
  },
  {
   "cell_type": "code",
   "execution_count": 29,
   "metadata": {
    "collapsed": false
   },
   "outputs": [],
   "source": [
    "def generate_graph(info):\n",
    "    nda = rl.Namespace(\"https://ndar.nih.gov/api/datadictionary/v2/datastructure/\")\n",
    "    ex = rl.Namespace(\"https://example.org/\")\n",
    "    g = rl.ConjunctiveGraph()\n",
    "    g.bind(\"nda\", nda)\n",
    "    g.bind(\"ex\", ex)\n",
    "    tokens = []\n",
    "    for val in info:\n",
    "        g.add((nda[val['name']], ex['description'], rl.Literal(val['description'])))\n",
    "        tokens.append(val['description'])\n",
    "        for item in val['info']:\n",
    "            item_el = rl.URIRef(str(nda) + val['name'] + '/' + item[0])\n",
    "            g.add((nda[val['name']], ex['hasItem'], item_el))\n",
    "            g.add((item_el, ex['description'], rl.Literal(item[1])))\n",
    "            g.add((item_el, ex['description'], rl.Literal(item[0])))\n",
    "            #tokens.append(item[0])\n",
    "            tokens.append(item[1])\n",
    "            for alias in item[2]:\n",
    "                item_alias = rl.URIRef(str(nda) + val['name'] + '/' + alias)\n",
    "                g.add((item_el, ex['isSameas'], item_alias))\n",
    "                g.add((item_alias, ex['description'], rl.Literal(alias)))\n",
    "                g.add((nda[val['name']], ex['hasItem'], item_alias))\n",
    "                #tokens.append(alias)\n",
    "    return g, tokens"
   ]
  },
  {
   "cell_type": "code",
   "execution_count": 30,
   "metadata": {
    "collapsed": false
   },
   "outputs": [],
   "source": [
    "g, tokens = generate_graph(all_info)"
   ]
  },
  {
   "cell_type": "code",
   "execution_count": 33,
   "metadata": {
    "collapsed": false
   },
   "outputs": [
    {
     "data": {
      "text/plain": [
       "106817"
      ]
     },
     "execution_count": 33,
     "metadata": {},
     "output_type": "execute_result"
    }
   ],
   "source": [
    "utokens = [val for val in np.unique(tokens).tolist() if val]\n",
    "len(utokens)"
   ]
  },
  {
   "cell_type": "code",
   "execution_count": 34,
   "metadata": {
    "collapsed": false
   },
   "outputs": [
    {
     "data": {
      "text/plain": [
       "[u' Compared to one year ago, how would you rate your physical health in general now?',\n",
       " u\" Does your child's condition interfere with his/her ability to learn?\",\n",
       " u' Hostility. Becoming angry, argumentative. ',\n",
       " u' Increased level of care required, defined by an increase in clinic visits, emergency room visits or a change from general outpatient status to day hospital participation',\n",
       " u' Mother ethnicity (choices are Hispanic/Latino or Not Hispanic/Latino)',\n",
       " u' Must meet DSM-IV TR diagnostic criteria for Major Depressive Disorder, Bipolar I or II Depressed, Generalized Anxiety Disorder, Social Phobia, Panic Disorder, or Post Traumatic Stress Disorder',\n",
       " u'\" 1. Difficult to hold, cuddle? (no molding to body)  \"',\n",
       " u'\" 10. Can\\'t sit still, restless, or hyperactive  \"',\n",
       " u'\" 10. Exceptionally fussy, difficult to soothe? (not related  to colic)\"',\n",
       " u'\" 102. Underactive, slow moving, or lacks energy  \"',\n",
       " u'\" 103. Unhappy, sad, or depressed  \"',\n",
       " u'\" 108. show repeated movements like squinting,   hunching up the shoulders, or twitching the facial   muscles?\"',\n",
       " u'\" 111. Withdrawn, doesn\\'t get involved with others  \"',\n",
       " u'\" 118. show distress, then quiet down  \"',\n",
       " u'\" 12. Overly sensitive/lack of sensitivity to noise, tactile  input? \"',\n",
       " u'\" 125. enjoy activities such as being spun, etc?  \"',\n",
       " u'\" 127. interest in being close, not held  \"',\n",
       " u'\" 14. Feeding problems? (sucking problems, choking,   regurgitation, arching, anxiousness, refusal to feed)\"',\n",
       " u'\" 15. Oddities in muscle tone? (low tone/floppy, high  tone, combination)\"',\n",
       " u'\" 156. seem full of energy, even in the evening?  \"']"
      ]
     },
     "execution_count": 34,
     "metadata": {},
     "output_type": "execute_result"
    }
   ],
   "source": [
    "utokens[:20]"
   ]
  },
  {
   "cell_type": "code",
   "execution_count": 36,
   "metadata": {
    "collapsed": true
   },
   "outputs": [],
   "source": [
    "query = \"\"\"\n",
    "PREFIX ex: <https://example.org/>\n",
    "\n",
    "SELECT ?assessment where\n",
    "{\n",
    "   ?assessment ex:hasItem?/ex:description \"%s\" .\n",
    "}\n",
    "\n",
    "\"\"\"\n",
    "\n",
    "def get_parent(g, val):\n",
    "    query_str = query % val\n",
    "    return g.query(query_str)"
   ]
  },
  {
   "cell_type": "code",
   "execution_count": 37,
   "metadata": {
    "collapsed": false
   },
   "outputs": [
    {
     "data": {
      "text/plain": [
       "[{rdflib.term.Variable(u'assessment'): rdflib.term.URIRef(u'https://ndar.nih.gov/api/datadictionary/v2/datastructure/neo_ffi_form_s_adult_200301/neo_q47')},\n",
       " {rdflib.term.Variable(u'assessment'): rdflib.term.URIRef(u'https://ndar.nih.gov/api/datadictionary/v2/datastructure/neo_ffi_form_s_adult_200301')}]"
      ]
     },
     "execution_count": 37,
     "metadata": {},
     "output_type": "execute_result"
    }
   ],
   "source": [
    "get_parent(g, 'My life is fast-paced').bindings"
   ]
  },
  {
   "cell_type": "code",
   "execution_count": 38,
   "metadata": {
    "collapsed": false
   },
   "outputs": [
    {
     "data": {
      "text/plain": [
       "[(u'\"82.  Cuddliness, current (father)\"', 90),\n",
       " (u'\"Asperger Syndrome, father\"', 90),\n",
       " (u'\"Autism Disorder, father\"', 90),\n",
       " (u'\"Autism Spectrum Disorder, father\"', 90),\n",
       " (u'\"Cerebral Palsy, father\"', 90),\n",
       " (u'\"Congenital Blindness, father\"', 90),\n",
       " (u'\"Disrupted sleep patterns, father\"', 90),\n",
       " (u'\"Down Syndrome, father\"', 90),\n",
       " (u'\"Neurofibromatosis I, father\"', 90),\n",
       " (u'\"PDD-NOS, father\"', 90)]"
      ]
     },
     "execution_count": 38,
     "metadata": {},
     "output_type": "execute_result"
    }
   ],
   "source": [
    "process.extract(\"fath\", utokens, limit=10)"
   ]
  },
  {
   "cell_type": "code",
   "execution_count": 39,
   "metadata": {
    "collapsed": false
   },
   "outputs": [
    {
     "data": {
      "text/plain": [
       "[(u'\"Neurofibromatosis I, father\"', 90),\n",
       " (u'\"Neurofibromatosis I, mother\"', 90),\n",
       " (u'\"Neurofibromatosis I, sibling 1\"', 90),\n",
       " (u'\"Neurofibromatosis I, sibling 2\"', 90),\n",
       " (u'\"Neurofibromatosis I, sibling 3\"', 90),\n",
       " (u'\"Neurofibromatosis I, sibling 4\"', 90),\n",
       " (u'\"Neurofibromatosis I, sibling 5\"', 90),\n",
       " (u'Child have Neurofibromatosis?', 90),\n",
       " (u'Does the child have Neurofibromatosis?', 90),\n",
       " (u'Family History: Neurofibromatosis Child', 90)]"
      ]
     },
     "execution_count": 39,
     "metadata": {},
     "output_type": "execute_result"
    }
   ],
   "source": [
    "process.extract(\"fibromatosis\", utokens, limit=10)"
   ]
  },
  {
   "cell_type": "code",
   "execution_count": 40,
   "metadata": {
    "collapsed": false
   },
   "outputs": [
    {
     "data": {
      "text/plain": [
       "[(u'My life is fast-paced', 95),\n",
       " (u'fast', 90),\n",
       " (u'My lifeIs fast-paced.', 89),\n",
       " (u'\" 16. Is happy, cheerful, and has a positive attitude.  \"', 86),\n",
       " (u'\" 37. Is patient and content, even when waiting in a long   line. \"', 86),\n",
       " (u'\" Adds qualifying words to nouns so that others will understand what or whom he/she is talking about (e.g.,   \\'John, my brother, is nine years ald.\\')  \"',\n",
       "  86),\n",
       " (u'\" Becomes unusually upset when the order of a routine is changed (e.g., sees a teacher out of usual  sequence, has to go to a later class before an earlier   one, order of programs changed) \"',\n",
       "  86),\n",
       " (u'\" Becomes upset when class is interrupted (e.g., fire drills, announcements over loudspeaker)  \"',\n",
       "  86),\n",
       " (u'\" If person observed is not a parent, specify relationship.  \"', 86),\n",
       " (u'\" If setting is not home or clinic, specify setting.  \"', 86)]"
      ]
     },
     "execution_count": 40,
     "metadata": {},
     "output_type": "execute_result"
    }
   ],
   "source": [
    "process.extract(\"47. My life is fast-paced.\", utokens, limit=10)"
   ]
  },
  {
   "cell_type": "code",
   "execution_count": 41,
   "metadata": {
    "collapsed": false
   },
   "outputs": [
    {
     "data": {
      "text/plain": [
       "[(u\" Does your child's condition interfere with his/her ability to learn?\",\n",
       "  100),\n",
       " (u'condition', 90),\n",
       " (u' Increased level of care required, defined by an increase in clinic visits, emergency room visits or a change from general outpatient status to day hospital participation',\n",
       "  86),\n",
       " (u'\" 14. Feeding problems? (sucking problems, choking,   regurgitation, arching, anxiousness, refusal to feed)\"',\n",
       "  86),\n",
       " (u'\" 16. Cruelty, bullying, or meanness to others  \"', 86),\n",
       " (u'\" 21. Exceptionally fussy, difficult to soothe?  \"', 86),\n",
       " (u'\" 25. Feeding problems? (sucking problems, choking,  regurgitation, arching, anxiousness, refusal to feed)  \"',\n",
       "  86),\n",
       " (u'\" 42. splash, kick, or try to jump?  \"', 86),\n",
       " (u'\" 43. Overly sensitive/lack of sensitivity to noise, tactile   input, other sensory input or other unusual  sensory/visual response? \"',\n",
       "  86),\n",
       " (u'\" 56. Overly sensitive/lack of sensitivity to noise, tactile   input, other sensory input or other unusual sensory/visual response? \"',\n",
       "  86)]"
      ]
     },
     "execution_count": 41,
     "metadata": {},
     "output_type": "execute_result"
    }
   ],
   "source": [
    "process.extract(utokens[1], utokens, limit=10)"
   ]
  },
  {
   "cell_type": "code",
   "execution_count": 42,
   "metadata": {
    "collapsed": false
   },
   "outputs": [
    {
     "name": "stdout",
     "output_type": "stream",
     "text": [
      "[(u'Subject #1:', 95), (u'Subject #2:', 95)]\n",
      "((u'Subject #1:', 95), [{rdflib.term.Variable(u'assessment'): rdflib.term.URIRef(u'https://ndar.nih.gov/api/datadictionary/v2/datastructure/trf01/trf_vii1subje')}, {rdflib.term.Variable(u'assessment'): rdflib.term.URIRef(u'https://ndar.nih.gov/api/datadictionary/v2/datastructure/trf01')}])\n",
      "((u'Subject #2:', 95), [{rdflib.term.Variable(u'assessment'): rdflib.term.URIRef(u'https://ndar.nih.gov/api/datadictionary/v2/datastructure/trf01/trf_vii2subj')}, {rdflib.term.Variable(u'assessment'): rdflib.term.URIRef(u'https://ndar.nih.gov/api/datadictionary/v2/datastructure/trf01')}])\n"
     ]
    }
   ],
   "source": [
    "matches = process.extract(\"subject\", np.unique(tokens).tolist(), limit=2)\n",
    "print(matches)\n",
    "for match in matches:\n",
    "    print(match, get_parent(g, match[0]).bindings)"
   ]
  },
  {
   "cell_type": "code",
   "execution_count": 43,
   "metadata": {
    "collapsed": false
   },
   "outputs": [
    {
     "name": "stdout",
     "output_type": "stream",
     "text": [
      "((u'Subject #1:', 95), ['https://ndar.nih.gov/api/datadictionary/v2/datastructure/trf01/trf_vii1subje', 'https://ndar.nih.gov/api/datadictionary/v2/datastructure/trf01'])\n",
      "((u'Subject #2:', 95), ['https://ndar.nih.gov/api/datadictionary/v2/datastructure/trf01/trf_vii2subj', 'https://ndar.nih.gov/api/datadictionary/v2/datastructure/trf01'])\n"
     ]
    }
   ],
   "source": [
    "for match in matches:\n",
    "    print(match, [str(val['assessment']) for val in get_parent(g, match[0]).bindings])"
   ]
  },
  {
   "cell_type": "code",
   "execution_count": null,
   "metadata": {
    "collapsed": true
   },
   "outputs": [],
   "source": []
  }
 ],
 "metadata": {
  "kernelspec": {
   "display_name": "Python 2",
   "language": "python",
   "name": "python2"
  },
  "language_info": {
   "codemirror_mode": {
    "name": "ipython",
    "version": 2
   },
   "file_extension": ".py",
   "mimetype": "text/x-python",
   "name": "python",
   "nbconvert_exporter": "python",
   "pygments_lexer": "ipython2",
   "version": "2.7.11"
  }
 },
 "nbformat": 4,
 "nbformat_minor": 0
}
